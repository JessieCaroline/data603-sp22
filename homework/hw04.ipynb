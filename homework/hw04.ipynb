{
  "nbformat": 4,
  "nbformat_minor": 0,
  "metadata": {
    "colab": {
      "name": "Copy of DATA603.ipynb",
      "provenance": [],
      "collapsed_sections": []
    },
    "kernelspec": {
      "name": "python3",
      "display_name": "Python 3"
    },
    "language_info": {
      "name": "python"
    }
  },
  "cells": [
    {
      "cell_type": "code",
      "execution_count": 21,
      "metadata": {
        "colab": {
          "base_uri": "https://localhost:8080/"
        },
        "id": "WxGbDAQShuu3",
        "outputId": "af6cbcff-2bf0-41ab-d122-0b8bfe5ff579"
      },
      "outputs": [
        {
          "output_type": "stream",
          "name": "stdout",
          "text": [
            "Requirement already satisfied: pyspark in /usr/local/lib/python3.7/dist-packages (3.2.1)\n",
            "Requirement already satisfied: py4j==0.10.9.3 in /usr/local/lib/python3.7/dist-packages (from pyspark) (0.10.9.3)\n"
          ]
        }
      ],
      "source": [
        "!pip install pyspark"
      ]
    },
    {
      "cell_type": "code",
      "source": [
        "import pyspark\n",
        "spark = pyspark.sql.SparkSession.builder.getOrCreate()\n",
        "sc = spark.sparkContext"
      ],
      "metadata": {
        "id": "a9NgKbqxiIvR"
      },
      "execution_count": 22,
      "outputs": []
    },
    {
      "cell_type": "code",
      "source": [
        "from pyspark.sql import SparkSession\n",
        "spark = SparkSession.builder.getOrCreate()"
      ],
      "metadata": {
        "id": "3RYZvWEudoi3"
      },
      "execution_count": 23,
      "outputs": []
    },
    {
      "cell_type": "code",
      "source": [
        "from pyspark.sql.types import *\n",
        "from pyspark.sql.functions import *"
      ],
      "metadata": {
        "id": "CIrMeQbxnl2h"
      },
      "execution_count": 24,
      "outputs": []
    },
    {
      "cell_type": "code",
      "source": [
        "spark"
      ],
      "metadata": {
        "colab": {
          "base_uri": "https://localhost:8080/",
          "height": 219
        },
        "id": "co4n1MDgduyL",
        "outputId": "569a6bbb-a776-4bcf-8903-9f8e1f59d405"
      },
      "execution_count": 25,
      "outputs": [
        {
          "output_type": "execute_result",
          "data": {
            "text/html": [
              "\n",
              "            <div>\n",
              "                <p><b>SparkSession - in-memory</b></p>\n",
              "                \n",
              "        <div>\n",
              "            <p><b>SparkContext</b></p>\n",
              "\n",
              "            <p><a href=\"http://ad2e7997bbc4:4040\">Spark UI</a></p>\n",
              "\n",
              "            <dl>\n",
              "              <dt>Version</dt>\n",
              "                <dd><code>v3.2.1</code></dd>\n",
              "              <dt>Master</dt>\n",
              "                <dd><code>local[*]</code></dd>\n",
              "              <dt>AppName</dt>\n",
              "                <dd><code>pyspark-shell</code></dd>\n",
              "            </dl>\n",
              "        </div>\n",
              "        \n",
              "            </div>\n",
              "        "
            ],
            "text/plain": [
              "<pyspark.sql.session.SparkSession at 0x7f38a01dcd50>"
            ]
          },
          "metadata": {},
          "execution_count": 25
        }
      ]
    },
    {
      "cell_type": "markdown",
      "source": [
        "Creating the schema for the CSV file"
      ],
      "metadata": {
        "id": "53kb9Dj1carZ"
      }
    },
    {
      "cell_type": "code",
      "source": [
        "cschema = StructType([StructField('X', FloatType(), True),\n",
        "StructField('Y', FloatType(), True),\n",
        "StructField('RowID', StringType(), True),\n",
        "StructField('CrimeDateTime', StringType(), True),\n",
        "StructField('CrimeCode', StringType(), True),\n",
        "StructField('Location', StringType(), True),\n",
        "StructField('Description', StringType(), True),\n",
        "StructField('Inside_Outside', StringType(), True),\n",
        "StructField('Weapon', StringType(), True),\n",
        "StructField('Post', StringType(), True),\n",
        "StructField('District', StringType(), True),\n",
        "StructField('Neighborhood', StringType(), True),\n",
        "StructField('Latitude', FloatType(), True),\n",
        "StructField('Longitude', FloatType(), True),\n",
        "StructField('GeoLocation', StringType(), True),\n",
        "StructField('Premise', StringType(), True),\n",
        "StructField('VRIName', StringType(), True),\n",
        "StructField('Total_Incidents', IntegerType(), True),\n",
        "StructField('Shape', StringType(), True)])\n"
      ],
      "metadata": {
        "id": "Aywjqb1Wk7Gc"
      },
      "execution_count": 26,
      "outputs": []
    },
    {
      "cell_type": "markdown",
      "source": [
        "###Reading the CSV file"
      ],
      "metadata": {
        "id": "prKhfTvATubM"
      }
    },
    {
      "cell_type": "code",
      "source": [
        "df1 = spark.read.csv('Part1_Crime_data.csv',header=True,sep = ',',schema = cschema)\n"
      ],
      "metadata": {
        "id": "wdc0RIpXXOPq"
      },
      "execution_count": 27,
      "outputs": []
    },
    {
      "cell_type": "code",
      "source": [
        "type(df1)"
      ],
      "metadata": {
        "colab": {
          "base_uri": "https://localhost:8080/"
        },
        "id": "POSWO_dhXa8b",
        "outputId": "3a4bb71b-fb92-4925-8b97-d461eaf382bc"
      },
      "execution_count": 28,
      "outputs": [
        {
          "output_type": "execute_result",
          "data": {
            "text/plain": [
              "pyspark.sql.dataframe.DataFrame"
            ]
          },
          "metadata": {},
          "execution_count": 28
        }
      ]
    },
    {
      "cell_type": "markdown",
      "source": [
        "####Cache the DataFrame"
      ],
      "metadata": {
        "id": "dDF4fVCamIdP"
      }
    },
    {
      "cell_type": "code",
      "source": [
        "df1.cache()"
      ],
      "metadata": {
        "colab": {
          "base_uri": "https://localhost:8080/"
        },
        "id": "9jyvOf2dXwYJ",
        "outputId": "92143c2b-d5c0-4fd8-a59f-81b3e7faf650"
      },
      "execution_count": 29,
      "outputs": [
        {
          "output_type": "execute_result",
          "data": {
            "text/plain": [
              "DataFrame[X: float, Y: float, RowID: string, CrimeDateTime: string, CrimeCode: string, Location: string, Description: string, Inside_Outside: string, Weapon: string, Post: string, District: string, Neighborhood: string, Latitude: float, Longitude: float, GeoLocation: string, Premise: string, VRIName: string, Total_Incidents: int, Shape: string]"
            ]
          },
          "metadata": {},
          "execution_count": 29
        }
      ]
    },
    {
      "cell_type": "markdown",
      "source": [
        "####Count of the rows"
      ],
      "metadata": {
        "id": "h1fj5B2rmPw0"
      }
    },
    {
      "cell_type": "code",
      "source": [
        "df1.count()"
      ],
      "metadata": {
        "colab": {
          "base_uri": "https://localhost:8080/"
        },
        "id": "1B1_6E6pgaq8",
        "outputId": "10de873e-b5ac-4298-9734-89afad706e10"
      },
      "execution_count": 30,
      "outputs": [
        {
          "output_type": "execute_result",
          "data": {
            "text/plain": [
              "513158"
            ]
          },
          "metadata": {},
          "execution_count": 30
        }
      ]
    },
    {
      "cell_type": "markdown",
      "source": [
        "####Printing the Schema of the Spark dataframe"
      ],
      "metadata": {
        "id": "xD7LgcJll-HH"
      }
    },
    {
      "cell_type": "code",
      "source": [
        "df1.printSchema()"
      ],
      "metadata": {
        "colab": {
          "base_uri": "https://localhost:8080/"
        },
        "id": "JqJru9l0Xfed",
        "outputId": "a115c05a-e412-4d16-9747-4679b4dcb1e2"
      },
      "execution_count": 31,
      "outputs": [
        {
          "output_type": "stream",
          "name": "stdout",
          "text": [
            "root\n",
            " |-- X: float (nullable = true)\n",
            " |-- Y: float (nullable = true)\n",
            " |-- RowID: string (nullable = true)\n",
            " |-- CrimeDateTime: string (nullable = true)\n",
            " |-- CrimeCode: string (nullable = true)\n",
            " |-- Location: string (nullable = true)\n",
            " |-- Description: string (nullable = true)\n",
            " |-- Inside_Outside: string (nullable = true)\n",
            " |-- Weapon: string (nullable = true)\n",
            " |-- Post: string (nullable = true)\n",
            " |-- District: string (nullable = true)\n",
            " |-- Neighborhood: string (nullable = true)\n",
            " |-- Latitude: float (nullable = true)\n",
            " |-- Longitude: float (nullable = true)\n",
            " |-- GeoLocation: string (nullable = true)\n",
            " |-- Premise: string (nullable = true)\n",
            " |-- VRIName: string (nullable = true)\n",
            " |-- Total_Incidents: integer (nullable = true)\n",
            " |-- Shape: string (nullable = true)\n",
            "\n"
          ]
        }
      ]
    },
    {
      "cell_type": "markdown",
      "source": [
        "####Display first 5 rows"
      ],
      "metadata": {
        "id": "IIUqRetVma0_"
      }
    },
    {
      "cell_type": "code",
      "source": [
        "df1.show(5)"
      ],
      "metadata": {
        "colab": {
          "base_uri": "https://localhost:8080/"
        },
        "id": "T39QyE8shWzR",
        "outputId": "107ce413-7196-4683-d444-5265c7cbea89"
      },
      "execution_count": 32,
      "outputs": [
        {
          "output_type": "stream",
          "name": "stdout",
          "text": [
            "+---------+---------+-----+--------------------+---------+-------------------+--------------+--------------+-------+----+---------+----------------+--------+---------+------------------+---------------+------------+---------------+-----+\n",
            "|        X|        Y|RowID|       CrimeDateTime|CrimeCode|           Location|   Description|Inside_Outside| Weapon|Post| District|    Neighborhood|Latitude|Longitude|       GeoLocation|        Premise|     VRIName|Total_Incidents|Shape|\n",
            "+---------+---------+-----+--------------------+---------+-------------------+--------------+--------------+-------+----+---------+----------------+--------+---------+------------------+---------------+------------+---------------+-----+\n",
            "|1420074.1| 594160.6|    1|2022/02/26 04:00:...|       4E|  200 W MONUMENT ST|COMMON ASSAULT|          null|     NA| 124|  CENTRAL|    MOUNT VERNON| 39.2975| -76.6193|(39.2975,-76.6193)|           null|        null|              1| null|\n",
            "|1411374.2| 589791.4|    2|2022/02/26 01:26:...|       9S| 2100 FREDERICK AVE|      SHOOTING|       Outside|FIREARM| 835|SOUTHWEST|CARROLLTON RIDGE| 39.2856| -76.6501|(39.2856,-76.6501)|COMMON BUSINESS|Tri-District|              1| null|\n",
            "|1411401.1|582761.75|    3|2022/02/26 10:22:...|       4E| 2000 GRINNALDS AVE|COMMON ASSAULT|          null|     NA| 831|SOUTHWEST|    MORRELL PARK| 39.2663| -76.6501|(39.2663,-76.6501)|           null|        null|              1| null|\n",
            "|1422663.1| 597595.4|    4|2022/02/26 01:11:...|       7A|    400 E OLIVER ST|    AUTO THEFT|          null|     NA| 313|  EASTERN| GREENMOUNT WEST| 39.3069| -76.6101|(39.3069,-76.6101)|           null|        null|              1| null|\n",
            "|1440496.5| 607767.1|    5|2022/02/26 12:30:...|       4B|5300 PLAINFIELD AVE|  AGG. ASSAULT|          null|  KNIFE| 444|NORTHEAST|       FRANKFORD| 39.3346| -76.5469|(39.3346,-76.5469)|           null|        null|              1| null|\n",
            "+---------+---------+-----+--------------------+---------+-------------------+--------------+--------------+-------+----+---------+----------------+--------+---------+------------------+---------------+------------+---------------+-----+\n",
            "only showing top 5 rows\n",
            "\n"
          ]
        }
      ]
    },
    {
      "cell_type": "markdown",
      "source": [
        "####What are distinct crime codes?"
      ],
      "metadata": {
        "id": "z4DjjllNmjoL"
      }
    },
    {
      "cell_type": "code",
      "source": [
        "df1.createOrReplaceTempView('Crimecd')\n",
        "\n",
        "query = \"\"\"\n",
        "SELECT distinct Crimecode\n",
        "FROM Crimecd\n",
        "\n",
        "\"\"\"\n",
        "print(\"The distinct crime codes are\")\n",
        "spark.sql(query).show()"
      ],
      "metadata": {
        "colab": {
          "base_uri": "https://localhost:8080/"
        },
        "id": "u2Q4r8TziJNz",
        "outputId": "b9c9cf7f-600a-44b4-fb7f-4895a2ea2ee5"
      },
      "execution_count": 33,
      "outputs": [
        {
          "output_type": "stream",
          "name": "stdout",
          "text": [
            "The distinct crime codes are\n",
            "+---------+\n",
            "|Crimecode|\n",
            "+---------+\n",
            "|       3P|\n",
            "|       3K|\n",
            "|      3BJ|\n",
            "|       1A|\n",
            "|       3M|\n",
            "|       5F|\n",
            "|       4B|\n",
            "|       3B|\n",
            "|       7A|\n",
            "|      3NF|\n",
            "|      3EF|\n",
            "|       3N|\n",
            "|       5D|\n",
            "|       6K|\n",
            "|      3LO|\n",
            "|      3AF|\n",
            "|       7B|\n",
            "|      3GO|\n",
            "|     3AJF|\n",
            "|      8GV|\n",
            "+---------+\n",
            "only showing top 20 rows\n",
            "\n"
          ]
        }
      ]
    },
    {
      "cell_type": "markdown",
      "source": [
        "####Count the number of crimes by the crime codes and order by the resulting counts in descending order"
      ],
      "metadata": {
        "id": "Row_dp3kmxNI"
      }
    },
    {
      "cell_type": "code",
      "source": [
        "df1.createOrReplaceTempView('crimecount')\n",
        "\n",
        "query = \"\"\"\n",
        "SELECT Crimecode, count(RowID) as count from crimecount group by Crimecode\n",
        "ORDER BY count DESC\n",
        "\n",
        "\"\"\"\n",
        "print(\"The count for each crime code in descending order is : \")\n",
        "spark.sql(query).show()"
      ],
      "metadata": {
        "colab": {
          "base_uri": "https://localhost:8080/"
        },
        "id": "69f-KPDom3Ww",
        "outputId": "f6904788-9f90-4cf9-a1ab-b691037bce77"
      },
      "execution_count": 34,
      "outputs": [
        {
          "output_type": "stream",
          "name": "stdout",
          "text": [
            "The count for each crime code in descending order is : \n",
            "+---------+-----+\n",
            "|Crimecode|count|\n",
            "+---------+-----+\n",
            "|       4E|91650|\n",
            "|       6D|68427|\n",
            "|       5A|43928|\n",
            "|       7A|40274|\n",
            "|       6J|27636|\n",
            "|       6G|26858|\n",
            "|       6E|24300|\n",
            "|       6C|23227|\n",
            "|       4C|22438|\n",
            "|       5D|14971|\n",
            "|      3AF|14739|\n",
            "|       4B|14460|\n",
            "|       4A|13226|\n",
            "|       3B|10737|\n",
            "|       4D| 7232|\n",
            "|       5B| 6475|\n",
            "|       9S| 5443|\n",
            "|       6F| 5081|\n",
            "|       5C| 4917|\n",
            "|       6B| 4106|\n",
            "+---------+-----+\n",
            "only showing top 20 rows\n",
            "\n"
          ]
        }
      ]
    },
    {
      "cell_type": "markdown",
      "source": [
        "####Which neighborhood had most crimes?"
      ],
      "metadata": {
        "id": "3z8l98Bfm8ha"
      }
    },
    {
      "cell_type": "code",
      "source": [
        "df1.createOrReplaceTempView('crimecount')\n",
        "\n",
        "query = \"\"\"\n",
        "\n",
        "SELECT Neighborhood, count(RowID) as Sum_crime_count from crimecount\n",
        "group by Neighborhood \n",
        "order by sum_crime_count desc\n",
        "limit 1\n",
        "\"\"\"\n",
        "print(\"Neighborhood having highest number of crimes : \")\n",
        "spark.sql(query).show()"
      ],
      "metadata": {
        "colab": {
          "base_uri": "https://localhost:8080/"
        },
        "id": "RqpQeTzbA6w0",
        "outputId": "e9125dee-a180-40d6-b01d-14a6afb3e5fb"
      },
      "execution_count": 35,
      "outputs": [
        {
          "output_type": "stream",
          "name": "stdout",
          "text": [
            "Neighborhood having highest number of crimes : \n",
            "+------------+---------------+\n",
            "|Neighborhood|Sum_crime_count|\n",
            "+------------+---------------+\n",
            "|    DOWNTOWN|          17799|\n",
            "+------------+---------------+\n",
            "\n"
          ]
        }
      ]
    },
    {
      "cell_type": "markdown",
      "source": [
        "####Which month of the year had most crimes?"
      ],
      "metadata": {
        "id": "U0We1QiVnqBo"
      }
    },
    {
      "cell_type": "code",
      "source": [
        "df1.createOrReplaceTempView('monthcount')\n",
        "\n",
        "query = \"\"\"\n",
        "\n",
        "SELECT substring(CrimeDateTime,6,2) as Month, count(RowID) as Sum_crime_count from monthcount\n",
        "group by Month \n",
        "order by Sum_crime_count desc\n",
        "limit 1\n",
        "\"\"\"\n",
        "print(\"Month of the year with most crimes\")\n",
        "spark.sql(query).show()"
      ],
      "metadata": {
        "colab": {
          "base_uri": "https://localhost:8080/"
        },
        "id": "jPlhVOVUUChg",
        "outputId": "8afc57ca-1bf7-4344-dd50-ba9ac8be100e"
      },
      "execution_count": 36,
      "outputs": [
        {
          "output_type": "stream",
          "name": "stdout",
          "text": [
            "Month of the year with most crimes\n",
            "+-----+---------------+\n",
            "|Month|Sum_crime_count|\n",
            "+-----+---------------+\n",
            "|   08|          46327|\n",
            "+-----+---------------+\n",
            "\n"
          ]
        }
      ]
    },
    {
      "cell_type": "markdown",
      "source": [
        "####What weapons were used"
      ],
      "metadata": {
        "id": "JGw32B5koCqe"
      }
    },
    {
      "cell_type": "code",
      "source": [
        "df1.createOrReplaceTempView('weapons')\n",
        "\n",
        "query = \"\"\"\n",
        "\n",
        "SELECT DISTINCT Weapon from weapons where Weapon not in ('NA')\n",
        "\"\"\"\n",
        "print(\"The weapons used are : \")\n",
        "spark.sql(query).show()"
      ],
      "metadata": {
        "colab": {
          "base_uri": "https://localhost:8080/"
        },
        "id": "zcYPPKf2V-2B",
        "outputId": "5904dd60-8d85-4fa4-b12c-b6442af97c21"
      },
      "execution_count": 47,
      "outputs": [
        {
          "output_type": "stream",
          "name": "stdout",
          "text": [
            "The weapons used are : \n",
            "+-------+\n",
            "| Weapon|\n",
            "+-------+\n",
            "|  HANDS|\n",
            "|  KNIFE|\n",
            "|  OTHER|\n",
            "|   FIRE|\n",
            "|FIREARM|\n",
            "+-------+\n",
            "\n"
          ]
        }
      ]
    },
    {
      "cell_type": "markdown",
      "source": [
        "####Which weapon was used the most? "
      ],
      "metadata": {
        "id": "nVqEm9ClpIQA"
      }
    },
    {
      "cell_type": "code",
      "source": [
        "df1.createOrReplaceTempView('Mostusedweapons')\n",
        "\n",
        "query = \"\"\"\n",
        "\n",
        "SELECT Weapon, count(RowID) as count  from Mostusedweapons \n",
        "where Weapon Not in ('NA','OTHER') \n",
        "group by Weapon \n",
        "order by count desc\n",
        "limit 1\n",
        "\"\"\"\n",
        "print(\"The most used weapon was : \")\n",
        "spark.sql(query).show()"
      ],
      "metadata": {
        "colab": {
          "base_uri": "https://localhost:8080/"
        },
        "id": "brhvobENW_G7",
        "outputId": "bd6e57de-d31d-4aeb-999e-bb51eae8df68"
      },
      "execution_count": 39,
      "outputs": [
        {
          "output_type": "stream",
          "name": "stdout",
          "text": [
            "The most used weapon was : \n",
            "+-------+-----+\n",
            "| Weapon|count|\n",
            "+-------+-----+\n",
            "|FIREARM|46139|\n",
            "+-------+-----+\n",
            "\n"
          ]
        }
      ]
    }
  ]
}